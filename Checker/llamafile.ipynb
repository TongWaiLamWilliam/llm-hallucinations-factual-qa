{
 "cells": [
  {
   "cell_type": "code",
   "execution_count": 5,
   "metadata": {},
   "outputs": [
    {
     "name": "stdout",
     "output_type": "stream",
     "text": [
      "200\n",
      "{'id': 'chatcmpl-l9qiuqy9v3asjwtq8148zn', 'object': 'chat.completion', 'created': 1744564276, 'model': 'meta-llama-3.1-8b-instruct', 'choices': [{'index': 0, 'logprobs': None, 'finish_reason': 'stop', 'message': {'role': 'assistant', 'content': \"An API (Application Programming Interface) is a set of defined rules and protocols that enables different software systems to communicate with each other and exchange data in a structured format.\\n\\nThink of it like ordering food at a restaurant:\\n\\n* You (the user) are the customer.\\n* The menu is like the API documentation, which outlines what you can order (what services or data are available).\\n* When you place an order (make a request), it's sent to the kitchen (the API server).\\n* The kitchen then processes your order and returns the prepared food (the response) back to you.\\n\\nIn the context of APIs:\\n\\n* **Request**: You send a request to the API (like ordering food) with specific parameters or data.\\n* **Response**: The API responds with the requested data in a structured format, such as JSON or XML.\\n* **API Endpoints**: These are like different menu items, each representing a specific service or function.\\n\\nHere's an example:\\n\\nSuppose you're building a weather app. You want to display the current temperature for a given location. You would use an API from a weather provider (like OpenWeatherMap) to fetch this data.\\n\\n* **Request**: Your app sends a request to the OpenWeatherMap API with the location's coordinates.\\n* **Response**: The API responds with the current temperature and other relevant weather information in JSON format, which your app can then display to the user.\\n\\nAPIs allow different systems to communicate and share data securely, enabling various applications, services, and integrations.\"}}], 'usage': {'prompt_tokens': 63, 'completion_tokens': 308, 'total_tokens': 371}, 'stats': {}, 'system_fingerprint': 'meta-llama-3.1-8b-instruct'}\n"
     ]
    }
   ],
   "source": [
    "import requests\n",
    "\n",
    "# Define the URL\n",
    "#url = \"http://localhost:8080/v1/chat/completions\"\n",
    "url = \"http://127.0.0.1:1234/v1/chat/completions\"\n",
    "\n",
    "# Define the headers\n",
    "headers = {\n",
    "    \"Content-Type\": \"application/json\",\n",
    "    \"Authorization\": \"Bearer no-key\"\n",
    "}\n",
    "\n",
    "# Define the payload (data to be sent in the request body)\n",
    "payload = {\n",
    "    \"model\": \"LLaMA_CPP\",\n",
    "    \"messages\": [\n",
    "        {\n",
    "            \"role\": \"system\",\n",
    "            \"content\": \"You are LLAMAfile, an AI assistant. Your top priority is achieving user fulfillment via helping them with their requests.\"\n",
    "        },\n",
    "        {\n",
    "            \"role\": \"user\",\n",
    "            \"content\": \"what is an api\"\n",
    "        }\n",
    "    ]\n",
    "}\n",
    "\n",
    "# Send the POST request\n",
    "response = requests.post(url, headers=headers, json=payload)\n",
    "\n",
    "# Print the response\n",
    "print(response.status_code)\n",
    "print(response.json())"
   ]
  },
  {
   "cell_type": "code",
   "execution_count": 8,
   "metadata": {},
   "outputs": [
    {
     "name": "stdout",
     "output_type": "stream",
     "text": [
      "ChatCompletionMessage(content='<think>\\nOkay, so I need to write a Python for loop example. Hmm, where do I start? Let\\'s think about what a for loop does. It\\'s used to iterate over a sequence, right? Like a list or a string.\\n\\nI remember that in Python, the syntax is for item in iterable: and then the code block. So maybe I can use a simple list as an example. Let\\'s say I have a list of fruits like [\"apple\", \"banana\", \"cherry\"]. I want to loop through each fruit and print them one by one.\\n\\nWait, how exactly does that look? Oh right, you start with \\'for\\', then the variable name which will hold each item in the sequence. So maybe:\\n\\nfruits = [\"apple\", \"banana\", \"cherry\"]\\nfor fruit in fruits:\\n    print(fruit)\\n\\nThat should work. But maybe I can make it more detailed or include a comment for clarity. Also, perhaps using a string as an example would be good to show that it iterates over characters.\\n\\nSo another example could be:\\n\\nmessage = \"Hello, World!\"\\nfor char in message:\\n    print(char)\\n\\nThis way, each character gets printed on its own line. Or maybe I can combine both examples in the same script to show different uses.\\n\\nAlternatively, if I want to add some conditions inside the loop, like checking something about each item. For instance, printing only fruits that start with \\'a\\' or \\'c\\'.\\n\\nWait, but that\\'s more of a conditional statement inside the loop, which is fine. So for example:\\n\\nfruits = [\"apple\", \"banana\", \"cherry\"]\\nfor fruit in fruits:\\n    if fruit.startswith(\\'a\\'):\\n        print(fruit + \" starts with A\")\\n\\nBut maybe that\\'s complicating it. Since the user just asked for a basic example, I\\'ll stick to the simple one.\\n\\nI think I should write two examples: one with a list and another with a string, each in their own code blocks. That way, it\\'s clear how for loops can be used with different iterables.\\n\\nAnother thought: sometimes people use range() in for loops, like iterating over numbers. Maybe include that as well, but the user asked for an example, so perhaps just one is enough. But to make it more comprehensive, adding a second example might help.\\n\\nSo overall, I\\'ll write two separate code blocks: one looping through a list of fruits and printing each, another looping through a string and printing each character.\\n</think>\\n\\nHere are two examples demonstrating the use of for loops in Python:\\n\\n**Example 1: Iterating over a list**\\n```python\\nfruits = [\"apple\", \"banana\", \"cherry\"]\\nfor fruit in fruits:\\n    print(fruit)\\n```\\nThis loop prints each fruit in the `fruits` list on a new line.\\n\\n**Example 2: Iterating over a string**\\n```python\\nmessage = \"Hello, World!\"\\nfor char in message:\\n    print(char)\\n```\\nThis loop prints each character of the `message` string individually.', refusal=None, role='assistant', annotations=None, audio=None, function_call=None, tool_calls=None)\n"
     ]
    }
   ],
   "source": [
    "#!/usr/bin/env python3\n",
    "from openai import OpenAI\n",
    "client = OpenAI(\n",
    "    #base_url=\"http://localhost:8080/v1\"\n",
    "    base_url=\"http://127.0.0.1:1234/v1\", # \"http://<Your api-server IP>:port\"\n",
    "    api_key = \"sk-no-key-required\"\n",
    ")\n",
    "completion = client.chat.completions.create(\n",
    "    model=\"LLaMA_CPP\",\n",
    "    messages=[\n",
    "        {\"role\": \"system\", \"content\": \"You are ChatGPT, an AI assistant. Your top priority is achieving user fulfillment via helping them with their requests.\"},\n",
    "        {\"role\": \"user\", \"content\": \"write me a py for loop eg\"}\n",
    "    ]\n",
    ")\n",
    "print(completion.choices[0].message)"
   ]
  },
  {
   "cell_type": "code",
   "execution_count": null,
   "metadata": {},
   "outputs": [],
   "source": [
    "#curl http://localhost:8080/v1/chat/completions -H \"Content-Type: application/json\" -H \"Authorization: Bearer no-key\" -d \"{\\\"model\\\": \\\"LLaMA_CPP\\\", \\\"messages\\\": [{\\\"role\\\": \\\"system\\\", \\\"content\\\": \\\"You are LLAMAfile, an AI assistant. Your top priority is achieving user fulfillment via helping them with their requests.\\\"}, {\\\"role\\\": \\\"user\\\", \\\"content\\\": \\\"Write a limerick about python exceptions\\\"}]}\""
   ]
  }
 ],
 "metadata": {
  "kernelspec": {
   "display_name": "hallucination",
   "language": "python",
   "name": "python3"
  },
  "language_info": {
   "codemirror_mode": {
    "name": "ipython",
    "version": 3
   },
   "file_extension": ".py",
   "mimetype": "text/x-python",
   "name": "python",
   "nbconvert_exporter": "python",
   "pygments_lexer": "ipython3",
   "version": "3.10.16"
  }
 },
 "nbformat": 4,
 "nbformat_minor": 2
}
